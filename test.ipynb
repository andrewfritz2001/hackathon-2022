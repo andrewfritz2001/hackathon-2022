{
 "cells": [
  {
   "cell_type": "code",
   "execution_count": 4,
   "metadata": {},
   "outputs": [
    {
     "data": {
      "text/html": [
       "<div>\n",
       "<style scoped>\n",
       "    .dataframe tbody tr th:only-of-type {\n",
       "        vertical-align: middle;\n",
       "    }\n",
       "\n",
       "    .dataframe tbody tr th {\n",
       "        vertical-align: top;\n",
       "    }\n",
       "\n",
       "    .dataframe thead th {\n",
       "        text-align: right;\n",
       "    }\n",
       "</style>\n",
       "<table border=\"1\" class=\"dataframe\">\n",
       "  <thead>\n",
       "    <tr style=\"text-align: right;\">\n",
       "      <th></th>\n",
       "      <th>COURSE</th>\n",
       "      <th>PREREQ</th>\n",
       "      <th>CREDITS</th>\n",
       "      <th>TERM</th>\n",
       "    </tr>\n",
       "  </thead>\n",
       "  <tbody>\n",
       "    <tr>\n",
       "      <th>0</th>\n",
       "      <td>CPTS_121</td>\n",
       "      <td>{NONE}</td>\n",
       "      <td>4</td>\n",
       "      <td>1</td>\n",
       "    </tr>\n",
       "    <tr>\n",
       "      <th>1</th>\n",
       "      <td>CPTS_122</td>\n",
       "      <td>{CPTS_121}</td>\n",
       "      <td>4</td>\n",
       "      <td>2</td>\n",
       "    </tr>\n",
       "    <tr>\n",
       "      <th>2</th>\n",
       "      <td>CPTS_223</td>\n",
       "      <td>{CPTS_121, CPTS_122}</td>\n",
       "      <td>3</td>\n",
       "      <td>3</td>\n",
       "    </tr>\n",
       "  </tbody>\n",
       "</table>\n",
       "</div>"
      ],
      "text/plain": [
       "     COURSE                PREREQ  CREDITS  TERM\n",
       "0  CPTS_121                {NONE}        4     1\n",
       "1  CPTS_122            {CPTS_121}        4     2\n",
       "2  CPTS_223  {CPTS_121, CPTS_122}        3     3"
      ]
     },
     "execution_count": 4,
     "metadata": {},
     "output_type": "execute_result"
    }
   ],
   "source": [
    "\n",
    "import pandas as pd\n",
    "\n",
    "c = [\"COURSE\",\"PREREQ\",\"CREDITS\",\"TERM\"]\n",
    "prog = [('CPTS_121', {'NONE'}, 4, 1),\n",
    "        ('CPTS_122', {'CPTS_121'}, 4, 2),\n",
    "        ('CPTS_223', {'CPTS_121', 'CPTS_122'}, 3, 3),\n",
    "        ('CPTS_131', {'NONE'}, 4, 1),\n",
    "        ('CPTS_132', {'CPTS_131'}, 4, 2),2\n",
    "        ('CPTS_233', {'CPTS_131', 'CPTS_132'}, 3, 3)\n",
    "]\n",
    "\n",
    "\n",
    "df = pd.DataFrame(prog, columns=c)\n",
    "\n",
    "df\n",
    "\n"
   ]
  },
  {
   "cell_type": "code",
   "execution_count": 7,
   "metadata": {},
   "outputs": [],
   "source": [
    "ucore = [\"ROOT\",\"COMM\",\"QUAN\",\"WRTG\",\"ART\",\"BSCI\",\"HUM\",\"PSCI\",\"SSCI\",\"DIVR\",\"CAPS\"]\n",
    "\n",
    "for f in ucore:\n",
    "    file = open(\"bin/\"+f.lower()+\".csv\", mode='a')\n",
    "    file.close"
   ]
  }
 ],
 "metadata": {
  "interpreter": {
   "hash": "31f2aee4e71d21fbe5cf8b01ff0e069b9275f58929596ceb00d14d90e3e16cd6"
  },
  "kernelspec": {
   "display_name": "Python 3.8.10 64-bit",
   "language": "python",
   "name": "python3"
  },
  "language_info": {
   "codemirror_mode": {
    "name": "ipython",
    "version": 3
   },
   "file_extension": ".py",
   "mimetype": "text/x-python",
   "name": "python",
   "nbconvert_exporter": "python",
   "pygments_lexer": "ipython3",
   "version": "3.8.10"
  },
  "orig_nbformat": 4
 },
 "nbformat": 4,
 "nbformat_minor": 2
}
